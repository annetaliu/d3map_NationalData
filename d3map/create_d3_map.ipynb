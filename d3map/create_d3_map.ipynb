{
 "cells": [
  {
   "cell_type": "code",
   "execution_count": 1,
   "metadata": {
    "collapsed": false
   },
   "outputs": [
    {
     "data": {
      "text/plain": [
       "\"this is used to draw a map for 10 years' data\\nuse the time module to make the map dynamicly change in years.\\n\""
      ]
     },
     "execution_count": 1,
     "metadata": {},
     "output_type": "execute_result"
    }
   ],
   "source": [
    "\"\"\"this is used to draw a map for 10 years' data\n",
    "use the time module to make the map dynamicly change in years.\n",
    "\"\"\""
   ]
  },
  {
   "cell_type": "code",
   "execution_count": 2,
   "metadata": {
    "collapsed": true
   },
   "outputs": [],
   "source": [
    "import csv\n",
    "import os \n",
    "import codecs\n",
    "from time import time\n",
    "from collections import Counter\n",
    "\n"
   ]
  },
  {
   "cell_type": "code",
   "execution_count": 6,
   "metadata": {
    "collapsed": false
   },
   "outputs": [],
   "source": [
    "\n",
    "# MAP DATA\n",
    "csv_file=\"reg_10year.csv\"\n",
    "\n",
    "# MAP INFO\n",
    "map_title=\"Total Investment in Residential Buildings in the Whole Country\"\n",
    "map_desc=\"Total Investment in Residential Buildings in the Whole Country\"\n",
    "map_credits=\"From National Data\"\n",
    "map_units=\"Billion RMB\"\n",
    "\n",
    "\n",
    "# HTML OUTPUT\n",
    "out_dir=os.getcwd()\n",
    "out_filename=out_dir+\"/Investment10.html\"\n",
    "\n",
    "# DATA\n",
    "province_count=[]\n",
    "with open(csv_file, 'rb') as csvfile:\n",
    "    csv_data=csv.reader(csvfile)\n",
    "    csv_data.next() # skip headers\n",
    "    #province_count= [row for row in csv_data]\n",
    "    i=0\n",
    "    for row in csv_data: \n",
    "        acity=[row[0],row[1]]\n",
    "        yearindex=i%10\n",
    "        if not i/10 :\n",
    "            province_count.append([])\n",
    "        province_count[yearindex].append(acity)\n",
    "        i += 1\n",
    "\n",
    "# create HTML file from template\n",
    "html_template=\"map_template_dynamic.html\"\n",
    "\n",
    "jsvar=\"var dataList=%s\"%province_count\n",
    "jsvar+=\";var title='\"+map_title+\"';\"\n",
    "jsvar+=\"var desc='\"+map_desc+\"';\"\n",
    "jsvar+=\"var credits='\"+map_credits+\"';\"\n",
    "jsvar+=\"var units='\"+map_units+\"';\"\n",
    "\n",
    "# parse html\n",
    "html=open(html_template, \"r\").read().replace(\"TO_BE_CHANGED\", jsvar)\n",
    "\n",
    "# save htmlfile\n",
    "with codecs.open(out_filename, \"w\", \"utf-8\") as outfile:\n",
    "    outfile.write(html)"
   ]
  },
  {
   "cell_type": "code",
   "execution_count": null,
   "metadata": {
    "collapsed": true
   },
   "outputs": [],
   "source": []
  }
 ],
 "metadata": {
  "kernelspec": {
   "display_name": "Python 2",
   "language": "python",
   "name": "python2"
  },
  "language_info": {
   "codemirror_mode": {
    "name": "ipython",
    "version": 2
   },
   "file_extension": ".py",
   "mimetype": "text/x-python",
   "name": "python",
   "nbconvert_exporter": "python",
   "pygments_lexer": "ipython2",
   "version": "2.7.9"
  }
 },
 "nbformat": 4,
 "nbformat_minor": 0
}
