{
 "cells": [
  {
   "cell_type": "code",
   "execution_count": null,
   "metadata": {
    "collapsed": true
   },
   "outputs": [],
   "source": [
    "\n",
    "\"\"\" I am trying to plot the region data for 10 years to a 3dimention's map , heat map. \n",
    "steps:\n",
    "#get data in dataframe type -done\n",
    "#find a lib to show the data into a map for 1 year:\n",
    "    - plotly: only support online picture in official web, don't konw how to make it insert into my web page \n",
    "    - basemap: cannot find the lib in toolkits\n",
    "    - baidu pk + JS:\n",
    "    - D3: https://github.com/clemsos/d3-china-map \n",
    "# make 10 years data show in the map, tha's the 3rd dimention.    \n",
    "    \n",
    "\"\"\""
   ]
  },
  {
   "cell_type": "code",
   "execution_count": null,
   "metadata": {
    "collapsed": true
   },
   "outputs": [],
   "source": [
    "import urllib,urllib2,json\n",
    "import httplib\n",
    "addr=\"http://data.stats.gov.cn\"\n",
    "ndurl = \"http://data.stats.gov.cn/english/easyquery.htm\""
   ]
  },
  {
   "cell_type": "code",
   "execution_count": null,
   "metadata": {
    "collapsed": true
   },
   "outputs": [],
   "source": [
    "from pandas import DataFrame, Series\n",
    "import pandas as pd\n",
    "%matplotlib inline\n",
    "from pandas import DataFrame, Series\n",
    "import seaborn as sns"
   ]
  },
  {
   "cell_type": "code",
   "execution_count": null,
   "metadata": {
    "collapsed": true
   },
   "outputs": [],
   "source": [
    "def check_with_valuecode(valuecode):\n",
    "    wdcode=\"zb\"  #\n",
    "    #valuecode=\"A0101\"  #data collection A0501**  LAST12\n",
    "    dfwds=\"[{%22wdcode%22%3A%22\"+ wdcode +\"%22%2C%22valuecode%22%3A%22\"+ valuecode + \"%22}]\"\n",
    "    data={\n",
    "        \"colcode\":\"sj\",  #more than one year data\n",
    "        \"dbcode\":\"hgnd\", #hgyd-month hgjd-quater\n",
    "        \"m\":\"QueryData\",\n",
    "        \"rowcode\":\"zb\",\n",
    "        }\n",
    "    test_url = ndurl+'?'+urllib.urlencode(data)+\"&dfwds=%s\"%(dfwds)+\"&wds=[]\"\n",
    "    #print test_url\n",
    "    resp = urllib2.urlopen(test_url)\n",
    "    result = json.loads(resp.read(),strict=False)\n",
    "    #print result\n",
    "    #how to parse the data frame\n",
    "    if result[\"returncode\"] != 200 : \n",
    "        print \"return code error for:\",valuecode\n",
    "        return False\n",
    "    codelist=[]\n",
    "    for _value in result[\"returndata\"][\"wdnodes\"][0][\"nodes\"]:\n",
    "        codelist.append(_value['code'])\n",
    "    return codelist"
   ]
  },
  {
   "cell_type": "code",
   "execution_count": null,
   "metadata": {
    "collapsed": true
   },
   "outputs": [],
   "source": [
    "def get_reg_df_with_valuecode(valuecode):\n",
    "    print \"INFO:\",valuecode\n",
    "    wdcode=\"reg\"  #\n",
    "    wds=\"[{%22wdcode%22%3A%22\"+ \"zb\" +\"%22%2C%22valuecode%22%3A%22\"+ valuecode + \"%22}]\"\n",
    "    dfwds=\"[]\"\n",
    "    data={\n",
    "        \"colcode\":\"sj\",  #more than one year data\n",
    "        \"dbcode\":\"fsnd\", #hgyd-month hgjd-quater\n",
    "        \"m\":\"QueryData\",\n",
    "        \"rowcode\":\"reg\",\n",
    "        }\n",
    "    test_url = ndurl+'?'+urllib.urlencode(data)+\"&dfwds=%s\"%(dfwds) +\"&wds=%s\"%wds\n",
    "    #print test_url\n",
    "    #return \n",
    "    resp = urllib2.urlopen(test_url)\n",
    "    result = json.loads(resp.read(),strict=False)\n",
    "    #print result\n",
    "    #how to parse the data frame\n",
    "    if result[\"returncode\"] != 200 : \n",
    "        print \"return code error for:\",valuecode\n",
    "        return []\n",
    "    \n",
    "    if not result[\"returndata\"][\"datanodes\"]: \n",
    "        print \"Warning: skip data code \",valuecode\n",
    "        return DataFrame()\n",
    "    #dataname:\n",
    "    dataname=result[\"returndata\"][\"wdnodes\"][0][\"nodes\"][0][\"cname\"]\n",
    "    #get citycode mapping dataframe\n",
    "    citycode_list=[]\n",
    "    for _index in result[\"returndata\"][\"wdnodes\"][1][\"nodes\"]:\n",
    "        citycode ={\n",
    "            \"citycode\": _index[\"code\"],\n",
    "            \"cityname\": _index[\"cname\"],\n",
    "        }\n",
    "        citycode_list.append(citycode)\n",
    "    citycode_df=DataFrame(citycode_list)\n",
    "    #get data and city mapping\n",
    "    data_list=[]\n",
    "    for _data in result[\"returndata\"][\"datanodes\"]:\n",
    "        data_value = {\n",
    "            \"citycode\":_data[\"code\"].split(\".\")[2].split(\"_\")[0],\n",
    "            \"data\":_data[\"data\"][\"data\"],\n",
    "            \"year\":_data[\"code\"].split(\".\")[3],\n",
    "            \"datacode\":_data[\"code\"].split(\".\")[1].split(\"_\")[0],\n",
    "            \"dataname\":dataname,\n",
    "        }\n",
    "        data_list.append(data_value)\n",
    "    data_df=DataFrame(data_list)    \n",
    "    \n",
    "    #merge data\n",
    "    df=pd.merge(data_df,citycode_df)\n",
    "    return df\n"
   ]
  },
  {
   "cell_type": "code",
   "execution_count": null,
   "metadata": {
    "collapsed": false
   },
   "outputs": [],
   "source": [
    "def get_valuelist():\n",
    "    valuelist=[]\n",
    "    indexlist=range(1,9)+[chr(i) for i in range(65,90)]\n",
    "    #indexlist=range(1,9)\n",
    "    ch_end = False\n",
    "\n",
    "    for pa in indexlist: #1st layer\n",
    "        validator_pa = \"A0\"+ str(pa)\n",
    "        itemdf = check_with_valuecode(validator_pa)\n",
    "        if itemdf: \n",
    "            valuelist.extend(itemdf)\n",
    "            print \"INFO:got one\",validator_pa\n",
    "            continue  \n",
    "        else:\n",
    "            print \"INFO: try deepper\"\n",
    "            for ch in indexlist: #2nd layer\n",
    "                validator_ch = validator_pa + \"0\" + str(ch)\n",
    "                itemdf = check_with_valuecode(validator_ch)\n",
    "                if itemdf: \n",
    "                    valuelist.extend(itemdf)\n",
    "                    print \"INFO:got one\",validator_ch\n",
    "                    continue\n",
    "                elif ch_end : \n",
    "                    print \"!!! try next child after\",validator_ch\n",
    "                    break\n",
    "                else:\n",
    "                    for gr in indexlist:  #3rd layer\n",
    "                        print \"INFO: try deepper\"\n",
    "                        validator_gr = validator_ch + \"0\" + str(gr)\n",
    "                        itemdf = check_with_valuecode(validator_gr)\n",
    "                        if itemdf: \n",
    "                            valuelist.extend(itemdf)\n",
    "                            print \"INFO:got one\",validator_gr\n",
    "                            continue\n",
    "                        else:\n",
    "                            print \"WARNIN: no data for \",validator_gr\n",
    "                            if gr == 1: ch_end = True\n",
    "                            break\n",
    "\n",
    "    print len(valuelist)\n",
    "    return valuelist\n",
    "#print df_all"
   ]
  },
  {
   "cell_type": "code",
   "execution_count": null,
   "metadata": {
    "collapsed": false
   },
   "outputs": [],
   "source": [
    "testdf=get_reg_df_with_valuecode(\"A050401\")"
   ]
  },
  {
   "cell_type": "code",
   "execution_count": null,
   "metadata": {
    "collapsed": false
   },
   "outputs": [],
   "source": [
    "testdf.to_csv(path_or_buf=\"./reg_10year.csv\",encoding=\"utf-8\")\n"
   ]
  },
  {
   "cell_type": "code",
   "execution_count": null,
   "metadata": {
    "collapsed": false
   },
   "outputs": [],
   "source": [
    "testdf[testdf.year==\"2014\"].to_csv(path_or_buf=\"./d3map/reg.csv\",encoding=\"utf-8\",columns=[\"cityname\",\"data\"],index=False)"
   ]
  },
  {
   "cell_type": "code",
   "execution_count": null,
   "metadata": {
    "collapsed": false
   },
   "outputs": [],
   "source": [
    "set(testdf.cityname)"
   ]
  },
  {
   "cell_type": "code",
   "execution_count": null,
   "metadata": {
    "collapsed": true
   },
   "outputs": [],
   "source": []
  },
  {
   "cell_type": "code",
   "execution_count": null,
   "metadata": {
    "collapsed": false
   },
   "outputs": [],
   "source": [
    "testdf.groupby([\"cityname\"])[\"data\"].mean().plot(kind=\"pie\",figsize=(20,20))"
   ]
  },
  {
   "cell_type": "code",
   "execution_count": null,
   "metadata": {
    "collapsed": false
   },
   "outputs": [],
   "source": [
    "testdf.groupby([\"year\"])[\"data\"].mean().plot(figsize=(20,5))"
   ]
  },
  {
   "cell_type": "code",
   "execution_count": null,
   "metadata": {
    "collapsed": false
   },
   "outputs": [],
   "source": [
    "?testdf.plot()"
   ]
  },
  {
   "cell_type": "code",
   "execution_count": null,
   "metadata": {
    "collapsed": true
   },
   "outputs": [],
   "source": []
  },
  {
   "cell_type": "code",
   "execution_count": null,
   "metadata": {
    "collapsed": true
   },
   "outputs": [],
   "source": []
  },
  {
   "cell_type": "code",
   "execution_count": null,
   "metadata": {
    "collapsed": false
   },
   "outputs": [],
   "source": [
    "df_all=DataFrame()\n",
    "for _code in get_valuelist():\n",
    "    _df = get_reg_df_with_valuecode(_code)   \n",
    "    df_all=df_all.append(_df,ignore_index=True)"
   ]
  },
  {
   "cell_type": "code",
   "execution_count": null,
   "metadata": {
    "collapsed": true
   },
   "outputs": [],
   "source": [
    "df_all.to_csv(path_or_buf=\"./reg_10year.csv\",encoding=\"utf-8\")"
   ]
  },
  {
   "cell_type": "code",
   "execution_count": null,
   "metadata": {
    "collapsed": true
   },
   "outputs": [],
   "source": []
  },
  {
   "cell_type": "code",
   "execution_count": null,
   "metadata": {
    "collapsed": false
   },
   "outputs": [],
   "source": [
    "import plotly\n",
    "import pandas as pd\n",
    "plotly.tools.set_credentials_file(username='anneliu', api_key='p85l53j8o3')\n",
    "import plotly.plotly as py\n",
    "df = pd.read_csv('https://raw.githubusercontent.com/plotly/datasets/master/2011_us_ag_exports.csv')\n",
    "\n",
    "for col in df.columns:\n",
    "    df[col] = df[col].astype(str)\n",
    "\n",
    "scl = [[0.0, 'rgb(242,240,247)'],[0.2, 'rgb(218,218,235)'],[0.4, 'rgb(188,189,220)'],\\\n",
    "            [0.6, 'rgb(158,154,200)'],[0.8, 'rgb(117,107,177)'],[1.0, 'rgb(84,39,143)']]\n",
    "\n",
    "df['text'] = df['state'] + '<br>' +\\\n",
    "    'Beef '+df['beef']+' Dairy '+df['dairy']+'<br>'+\\\n",
    "    'Fruits '+df['total fruits']+' Veggies ' + df['total veggies']+'<br>'+\\\n",
    "    'Wheat '+df['wheat']+' Corn '+df['corn']\n",
    "    \n",
    "data = [ dict(\n",
    "        type='choropleth',\n",
    "        colorscale = scl,\n",
    "        autocolorscale = False,\n",
    "        locations = df['code'],\n",
    "        z = df['total exports'].astype(float),\n",
    "        locationmode = 'USA-states',\n",
    "        text = df['text'],\n",
    "        marker = dict(\n",
    "            line = dict (\n",
    "                color = 'rgb(255,255,255)',\n",
    "                width = 2\n",
    "            )\n",
    "        ),\n",
    "        colorbar = dict(\n",
    "            title = \"Millions USD\"\n",
    "        )\n",
    "    ) ]\n",
    "\n",
    "layout = dict(\n",
    "        title = '2011 US Agriculture Exports by State<br>(Hover for breakdown)',\n",
    "        geo = dict(\n",
    "            scope='usa',\n",
    "            projection=dict( type='albers usa' ),\n",
    "            showlakes = True,\n",
    "            lakecolor = 'rgb(255, 255, 255)',\n",
    "        ),\n",
    "    )\n",
    " \n",
    "fig = dict( data=data, layout=layout )\n",
    "\n",
    "#url = py.plot( fig, filename='d3-cloropleth-map' )"
   ]
  },
  {
   "cell_type": "code",
   "execution_count": null,
   "metadata": {
    "collapsed": false
   },
   "outputs": [],
   "source": [
    "#print fig\n",
    "#print data\n",
    "py.plot( fig, validate=False, filename='d3-cloropleth-map' )"
   ]
  },
  {
   "cell_type": "code",
   "execution_count": null,
   "metadata": {
    "collapsed": true
   },
   "outputs": [],
   "source": [
    "fig = py.get_figure(\"https://plot.ly/~anneliu/3\")"
   ]
  },
  {
   "cell_type": "code",
   "execution_count": null,
   "metadata": {
    "collapsed": false
   },
   "outputs": [],
   "source": [
    "fig['layout']['title'] = \"Never forget that title!\"\n",
    "\n",
    "plot_url = py.plot(fig, filename=\"python-change_plot\")"
   ]
  },
  {
   "cell_type": "code",
   "execution_count": null,
   "metadata": {
    "collapsed": false
   },
   "outputs": [],
   "source": [
    "plot_url"
   ]
  },
  {
   "cell_type": "code",
   "execution_count": null,
   "metadata": {
    "collapsed": true
   },
   "outputs": [],
   "source": []
  },
  {
   "cell_type": "code",
   "execution_count": null,
   "metadata": {
    "collapsed": true
   },
   "outputs": [],
   "source": []
  }
 ],
 "metadata": {
  "kernelspec": {
   "display_name": "Python 2",
   "language": "python",
   "name": "python2"
  },
  "language_info": {
   "codemirror_mode": {
    "name": "ipython",
    "version": 2
   },
   "file_extension": ".py",
   "mimetype": "text/x-python",
   "name": "python",
   "nbconvert_exporter": "python",
   "pygments_lexer": "ipython2",
   "version": "2.7.9"
  }
 },
 "nbformat": 4,
 "nbformat_minor": 0
}
